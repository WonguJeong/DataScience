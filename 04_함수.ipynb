{
 "cells": [
  {
   "cell_type": "code",
   "execution_count": 1,
   "metadata": {},
   "outputs": [],
   "source": [
    "# 함수 정의\n",
    "def greeting(): # 선언부 - 사용법(호출하는 입장에서)\n",
    "    #구현부 - 함수가 호출 됐을 때 실행할 명령문들\n",
    "    print(\"안녕하세요.\")\n",
    "    print(\"반갑습니다.\")\n",
    "    "
   ]
  },
  {
   "cell_type": "code",
   "execution_count": 2,
   "metadata": {},
   "outputs": [
    {
     "name": "stdout",
     "output_type": "stream",
     "text": [
      "안녕하세요.\n",
      "반갑습니다.\n"
     ]
    }
   ],
   "source": [
    "# 호출 : 이름([값, ....])\n",
    "greeting()"
   ]
  },
  {
   "cell_type": "markdown",
   "metadata": {},
   "source": [
    "# 함수의 매개변수(Parameter)"
   ]
  },
  {
   "cell_type": "code",
   "execution_count": 11,
   "metadata": {},
   "outputs": [],
   "source": [
    "def greeting2(name):\n",
    "    print(name+\"님 안녕하세요ㅎㅎ\")"
   ]
  },
  {
   "cell_type": "code",
   "execution_count": 12,
   "metadata": {},
   "outputs": [
    {
     "name": "stdout",
     "output_type": "stream",
     "text": [
      "원구님 안녕하세요ㅎㅎ\n"
     ]
    }
   ],
   "source": [
    "greeting2(\"원구\")"
   ]
  },
  {
   "cell_type": "code",
   "execution_count": 15,
   "metadata": {},
   "outputs": [],
   "source": [
    "def plus(num1, num2, num3):\n",
    "    print(\"{} + {} + {} = {}\".format(num1, num2, num3, num1+num2+num3))"
   ]
  },
  {
   "cell_type": "code",
   "execution_count": 25,
   "metadata": {},
   "outputs": [
    {
     "name": "stdout",
     "output_type": "stream",
     "text": [
      "1 + 2 + 3 = 6\n"
     ]
    }
   ],
   "source": [
    "plus(1,2,3)"
   ]
  },
  {
   "cell_type": "code",
   "execution_count": 28,
   "metadata": {},
   "outputs": [],
   "source": [
    "# 리턴값(함수가 처리가 끝나고 반환해주는 결과값)\n",
    "# return 반환값 - return: 호출한 곳으로 돌아가라. 반환값이 있으면 그 값을 가지고 돌아가라\n",
    "# 반환값을 생략하면 None이 반환\n",
    "# 반환값이 없을 경우(None) return 구문 생략할 수 있다.\n",
    "\n",
    "def plus2(num1, num2, num3):\n",
    "    result = num1+num2+num3\n",
    "    return result # return 반환값"
   ]
  },
  {
   "cell_type": "code",
   "execution_count": 29,
   "metadata": {},
   "outputs": [
    {
     "data": {
      "text/plain": [
       "80"
      ]
     },
     "execution_count": 29,
     "metadata": {},
     "output_type": "execute_result"
    }
   ],
   "source": [
    "plus2(10, 30,40)"
   ]
  },
  {
   "cell_type": "code",
   "execution_count": 30,
   "metadata": {},
   "outputs": [],
   "source": [
    "# 반환값이 여러개인 경우. => 자료구조로 묶어서 반환(반환값은 1개만 가능하기 때문에)\n",
    "def calculate(num1, num2):\n",
    "    r1 = num1+num2\n",
    "    r2 = num1-num2\n",
    "    r3 = num1*num2\n",
    "    r4 = num1/num2\n",
    " #   return r1, r2, r3, r4 #튜플로 묶어주는 것\n",
    "    return [r1, r2, r3, r4] #리스트"
   ]
  },
  {
   "cell_type": "code",
   "execution_count": 36,
   "metadata": {},
   "outputs": [
    {
     "name": "stdout",
     "output_type": "stream",
     "text": [
      "30 -10 200 0.5\n",
      "<class 'int'>\n"
     ]
    }
   ],
   "source": [
    "v1, v2, v3, v4 = calculate(10,20)\n",
    "print(v1,v2, v3, v4)\n",
    "print(type(v1))"
   ]
  },
  {
   "cell_type": "code",
   "execution_count": 35,
   "metadata": {},
   "outputs": [
    {
     "name": "stdout",
     "output_type": "stream",
     "text": [
      "<class 'tuple'>\n",
      "(30, -10, 200, 0.5)\n"
     ]
    }
   ],
   "source": [
    "v = calculate(10, 20)\n",
    "print(type(v))\n",
    "print(v)"
   ]
  },
  {
   "cell_type": "code",
   "execution_count": 37,
   "metadata": {},
   "outputs": [],
   "source": [
    "def calculate2(num1, num2):\n",
    "    r1 = num1+num2\n",
    "    r2 = num1-num2\n",
    "    r3 = num1*num2\n",
    "    r4 = num1/num2\n",
    "    return {\n",
    "        \"덧셈\" : r1, \"뺄셈\":r2, \"곱셈\":r3, \"나눗셈\":r4\n",
    "        \n",
    "    }"
   ]
  },
  {
   "cell_type": "code",
   "execution_count": 40,
   "metadata": {},
   "outputs": [
    {
     "data": {
      "text/plain": [
       "30"
      ]
     },
     "execution_count": 40,
     "metadata": {},
     "output_type": "execute_result"
    }
   ],
   "source": [
    "d = calculate2(20, 10)\n",
    "d['덧셈']"
   ]
  },
  {
   "cell_type": "code",
   "execution_count": 55,
   "metadata": {},
   "outputs": [],
   "source": [
    "# 기본값이 있는 매개변수(Parameter)\n",
    "\n",
    "# age=0 호출할때 전달 값이 있으면 그 값이 대입되고 없으면 age는 0을 기본으로 사용\n",
    "# 기본값이 있는 매개 변수 뒤에는 일반 매개변수(기본값 없는)는 선언할 수 없다.\n",
    "\n",
    "def printinfo(id, name, age=0, address = None, hobby = []): \n",
    "    print(id, name, age, address, hobby)\n",
    "    "
   ]
  },
  {
   "cell_type": "code",
   "execution_count": 56,
   "metadata": {},
   "outputs": [
    {
     "name": "stdout",
     "output_type": "stream",
     "text": [
      "wongu 정원구 0 None []\n"
     ]
    }
   ],
   "source": [
    "printinfo(\"wongu\", \"정원구\")"
   ]
  },
  {
   "cell_type": "code",
   "execution_count": 57,
   "metadata": {},
   "outputs": [
    {
     "name": "stdout",
     "output_type": "stream",
     "text": [
      "wongu 정원구 20 None []\n"
     ]
    }
   ],
   "source": [
    "printinfo('wongu', '정원구', 20)"
   ]
  },
  {
   "cell_type": "code",
   "execution_count": 58,
   "metadata": {},
   "outputs": [
    {
     "name": "stdout",
     "output_type": "stream",
     "text": [
      "info 원구 서울 None []\n"
     ]
    }
   ],
   "source": [
    "printinfo('info', '원구', '서울') # 서울=>age 값에 대입됨"
   ]
  },
  {
   "cell_type": "code",
   "execution_count": 61,
   "metadata": {},
   "outputs": [
    {
     "name": "stdout",
     "output_type": "stream",
     "text": [
      "id4 홍하영 0 None ['독서', '음악감상']\n"
     ]
    }
   ],
   "source": [
    "printinfo('id4', '홍하영',0, None, ['독서', '음악감상'])"
   ]
  },
  {
   "cell_type": "code",
   "execution_count": 62,
   "metadata": {},
   "outputs": [
    {
     "name": "stdout",
     "output_type": "stream",
     "text": [
      "id4 홍하영 0 None ['축구', '농구']\n"
     ]
    }
   ],
   "source": [
    "# 키워드 인수(Keyword argument) - 호출할 때 매개변수 명을 지정해서 값 전덜\n",
    "printinfo(\"id4\", \"홍하영\", hobby = ['축구', '농구'])"
   ]
  },
  {
   "cell_type": "code",
   "execution_count": 64,
   "metadata": {},
   "outputs": [
    {
     "name": "stdout",
     "output_type": "stream",
     "text": [
      "wongy 원구 27 목포 []\n"
     ]
    }
   ],
   "source": [
    "printinfo(age=27, address=\"목포\", name=\"원구\", id='wongy')"
   ]
  },
  {
   "cell_type": "code",
   "execution_count": 66,
   "metadata": {},
   "outputs": [],
   "source": [
    "# 디폴트 값이 포함된 값 뒤에 다른 변수 설정x\n",
    "# def f(x, y, z=None, k): \n",
    "   # pass"
   ]
  },
  {
   "cell_type": "code",
   "execution_count": 67,
   "metadata": {},
   "outputs": [],
   "source": [
    "x = 10\n",
    "if x ==10:\n",
    "    pass"
   ]
  },
  {
   "cell_type": "code",
   "execution_count": 81,
   "metadata": {},
   "outputs": [],
   "source": [
    "# 가변인수\n",
    "# *변수 - 0 ~n개의 전달값을 튜플로 묶어서 받는다.\n",
    "def sum_nums(*num_list):\n",
    "    print(type(num_list))\n",
    "    result = 0\n",
    "    for num in num_list:\n",
    "        result += num\n",
    "    return result"
   ]
  },
  {
   "cell_type": "code",
   "execution_count": 87,
   "metadata": {},
   "outputs": [
    {
     "name": "stdout",
     "output_type": "stream",
     "text": [
      "<class 'tuple'>\n",
      "45\n"
     ]
    }
   ],
   "source": [
    "l = [1,2,3,4,5,6,7,8,9]\n",
    "v = sum_nums(*l) #리스트(튜플)의 원소들을 가변인자로 전달. *리스트, *튜플\n",
    "print(v)"
   ]
  },
  {
   "cell_type": "code",
   "execution_count": 82,
   "metadata": {},
   "outputs": [
    {
     "name": "stdout",
     "output_type": "stream",
     "text": [
      "<class 'tuple'>\n",
      "15\n"
     ]
    }
   ],
   "source": [
    "v = sum_nums(1, 2, 3 , 4, 5)\n",
    "print(v)"
   ]
  },
  {
   "cell_type": "code",
   "execution_count": 84,
   "metadata": {},
   "outputs": [
    {
     "name": "stdout",
     "output_type": "stream",
     "text": [
      "<class 'tuple'>\n"
     ]
    },
    {
     "data": {
      "text/plain": [
       "70"
      ]
     },
     "execution_count": 84,
     "metadata": {},
     "output_type": "execute_result"
    }
   ],
   "source": [
    "v = sum_nums(4, 5, 15, 2, 44)\n",
    "v"
   ]
  },
  {
   "cell_type": "code",
   "execution_count": 85,
   "metadata": {},
   "outputs": [
    {
     "name": "stdout",
     "output_type": "stream",
     "text": [
      "<class 'tuple'>\n",
      "15\n",
      "<class 'tuple'>\n",
      "6\n"
     ]
    }
   ],
   "source": [
    "v = sum_nums(1, 2, 3, 4, 5)\n",
    "print(v)\n",
    "v = sum_nums(1, 2, 3)\n",
    "print(v)"
   ]
  },
  {
   "cell_type": "code",
   "execution_count": 88,
   "metadata": {},
   "outputs": [],
   "source": [
    "# 가변인수 : **변수명 \n",
    "# - 호출할 때 keyword 인수 형태로 전달하고 가변인수는 전달된 값을 dictionary로 처리한다.\n",
    "# 값의 개수는 제한없다."
   ]
  },
  {
   "cell_type": "code",
   "execution_count": 89,
   "metadata": {},
   "outputs": [],
   "source": [
    "def personinfo(**info):\n",
    "    print(\"ID:\", info.get('id'))\n",
    "    print(\"이름:\", info.get('name'))\n",
    "    print(\"나이:\", info.get('age'))\n",
    "    print(type(info))\n",
    "    print(info)"
   ]
  },
  {
   "cell_type": "code",
   "execution_count": 91,
   "metadata": {},
   "outputs": [
    {
     "name": "stdout",
     "output_type": "stream",
     "text": [
      "ID: wongu\n",
      "이름: 원구\n",
      "나이: 27\n",
      "<class 'dict'>\n",
      "{'id': 'wongu', 'name': '원구', 'age': 27, 'address': '서울'}\n"
     ]
    }
   ],
   "source": [
    "personinfo(id='wongu', name = '원구', age=27, address=\"서울\")"
   ]
  },
  {
   "cell_type": "code",
   "execution_count": 92,
   "metadata": {},
   "outputs": [
    {
     "name": "stdout",
     "output_type": "stream",
     "text": [
      "ID: wongu\n",
      "이름: 원구\n",
      "나이: 27\n",
      "<class 'dict'>\n",
      "{'id': 'wongu', 'name': '원구', 'age': 27, 'address': '서울'}\n"
     ]
    }
   ],
   "source": [
    "info = {'id': 'wongu', 'name': '원구', 'age': 27, 'address': '서울'}\n",
    "personinfo(**info) # dictionary의 item(key-value)를 키워드 인수형식으로 만들어 호출"
   ]
  },
  {
   "cell_type": "code",
   "execution_count": 93,
   "metadata": {},
   "outputs": [],
   "source": [
    "# 가변인자는 하나의 함수에 한개씩만 쓸 수 있다.\n",
    "# 가변인수는 일반 매개변수 다음에 선언해야 한다.\n",
    "# 변수명(관례): *args, **kwargs(키워드)\n",
    "def a(k, n, *x, **y):\n",
    "    pass"
   ]
  },
  {
   "cell_type": "code",
   "execution_count": 94,
   "metadata": {},
   "outputs": [],
   "source": [
    "a(1,2,3,4,5,6,7, a=10, b=24)"
   ]
  },
  {
   "cell_type": "markdown",
   "metadata": {},
   "source": [
    "# 함수는 일급시민객체(First Class Citizen object)\n",
    "- 일급시민객체\n",
    "    - 변수에 대입 가능\n",
    "    - 함수 호출시 매개변수로 전달할 수 있어야 한다,\n",
    "    - 함수의 반환값으로 사용할 수 있어야 한다."
   ]
  },
  {
   "cell_type": "code",
   "execution_count": 95,
   "metadata": {},
   "outputs": [],
   "source": [
    "def hello(name):\n",
    "    print(name+\" 안녕하세요.\")"
   ]
  },
  {
   "cell_type": "code",
   "execution_count": 96,
   "metadata": {},
   "outputs": [
    {
     "name": "stdout",
     "output_type": "stream",
     "text": [
      "원구 안녕하세요.\n"
     ]
    }
   ],
   "source": [
    "hello(\"원구\")"
   ]
  },
  {
   "cell_type": "code",
   "execution_count": 97,
   "metadata": {},
   "outputs": [],
   "source": [
    "my_hello = hello"
   ]
  },
  {
   "cell_type": "code",
   "execution_count": 98,
   "metadata": {},
   "outputs": [
    {
     "name": "stdout",
     "output_type": "stream",
     "text": [
      "순신 안녕하세요.\n"
     ]
    }
   ],
   "source": [
    "hello(\"순신\")"
   ]
  },
  {
   "cell_type": "code",
   "execution_count": 101,
   "metadata": {},
   "outputs": [
    {
     "data": {
      "text/plain": [
       "(4, -2, 3, 0.3333333333333333)"
      ]
     },
     "execution_count": 101,
     "metadata": {},
     "output_type": "execute_result"
    }
   ],
   "source": [
    "calc = calculate(1, 3) # 호출. calc:calculate(1,3)의 반환값\n",
    "calc"
   ]
  },
  {
   "cell_type": "code",
   "execution_count": 107,
   "metadata": {},
   "outputs": [
    {
     "data": {
      "text/plain": [
       "(6, -2, 8, 0.5)"
      ]
     },
     "execution_count": 107,
     "metadata": {},
     "output_type": "execute_result"
    }
   ],
   "source": [
    "calc = calculate # 함수자체를 calc변수에 대입(함수에 새 이름 추가)\n",
    "calc(2, 4)"
   ]
  },
  {
   "cell_type": "code",
   "execution_count": 122,
   "metadata": {},
   "outputs": [],
   "source": [
    "# 값은 있는데 함수가 없어서 함수를 불러줌\n",
    "def calculate3(func):\n",
    "    num1 = 10\n",
    "    num2 = 20\n",
    "    result = func(num1, num2)\n",
    "    print(result)"
   ]
  },
  {
   "cell_type": "code",
   "execution_count": 123,
   "metadata": {},
   "outputs": [],
   "source": [
    "def plus(n1, n2):\n",
    "    return n1+n2"
   ]
  },
  {
   "cell_type": "code",
   "execution_count": 124,
   "metadata": {},
   "outputs": [
    {
     "name": "stdout",
     "output_type": "stream",
     "text": [
      "30\n"
     ]
    }
   ],
   "source": [
    "calculate3(plus)"
   ]
  },
  {
   "cell_type": "code",
   "execution_count": 125,
   "metadata": {},
   "outputs": [
    {
     "data": {
      "text/plain": [
       "30"
      ]
     },
     "execution_count": 125,
     "metadata": {},
     "output_type": "execute_result"
    }
   ],
   "source": [
    "func = plus\n",
    "func(10, 20)"
   ]
  },
  {
   "cell_type": "code",
   "execution_count": 126,
   "metadata": {},
   "outputs": [
    {
     "name": "stdout",
     "output_type": "stream",
     "text": [
      "-10\n"
     ]
    }
   ],
   "source": [
    "def minus(n1, n2):\n",
    "    return n1-n2\n",
    "calculate3(minus)"
   ]
  },
  {
   "cell_type": "markdown",
   "metadata": {},
   "source": [
    "# 람다식,함수(Lambda)\n",
    "- 단일 구문으로 표현하는 익명의 함수\n",
    "- 익명함수 : 이름없이 구현만 가지고 있는 함수\n",
    "- 일회성 함수를 만들 때 사용한다.\n",
    "\n",
    "- 구문\n",
    "```python\n",
    "# [] 생략가능\n",
    "lambda [매개변수] : 명령문\n",
    "```\n",
    "\n",
    "- 명령문 : 하나의 명령문만 가능. 반환값이 있어야 한다.(명령문이 반환하는 값을 람다함수가 반환한다.)"
   ]
  },
  {
   "cell_type": "code",
   "execution_count": 127,
   "metadata": {},
   "outputs": [],
   "source": [
    "def minus(n1, n2):\n",
    "    return n1-n2"
   ]
  },
  {
   "cell_type": "code",
   "execution_count": 128,
   "metadata": {},
   "outputs": [
    {
     "data": {
      "text/plain": [
       "-1"
      ]
     },
     "execution_count": 128,
     "metadata": {},
     "output_type": "execute_result"
    }
   ],
   "source": [
    "fun = lambda n1, n2 : n1-n2\n",
    "fun(1,2)"
   ]
  },
  {
   "cell_type": "code",
   "execution_count": 129,
   "metadata": {},
   "outputs": [
    {
     "data": {
      "text/plain": [
       "200"
      ]
     },
     "execution_count": 129,
     "metadata": {},
     "output_type": "execute_result"
    }
   ],
   "source": [
    "(lambda x:x*20)(10)"
   ]
  },
  {
   "cell_type": "code",
   "execution_count": 130,
   "metadata": {},
   "outputs": [
    {
     "data": {
      "text/plain": [
       "<function __main__.minus(n1, n2)>"
      ]
     },
     "execution_count": 130,
     "metadata": {},
     "output_type": "execute_result"
    }
   ],
   "source": [
    "minus "
   ]
  },
  {
   "cell_type": "code",
   "execution_count": 132,
   "metadata": {},
   "outputs": [
    {
     "name": "stdout",
     "output_type": "stream",
     "text": [
      "-10\n"
     ]
    }
   ],
   "source": [
    "calculate3(lambda x, y:x-y)\n"
   ]
  },
  {
   "cell_type": "code",
   "execution_count": 136,
   "metadata": {},
   "outputs": [
    {
     "name": "stdout",
     "output_type": "stream",
     "text": [
      "200\n"
     ]
    }
   ],
   "source": [
    "calculate3(lambda x, y:x*y)"
   ]
  },
  {
   "cell_type": "code",
   "execution_count": 139,
   "metadata": {},
   "outputs": [
    {
     "data": {
      "text/plain": [
       "['aaaa', 'bb', 'ccccccc', 'dd']"
      ]
     },
     "execution_count": 139,
     "metadata": {},
     "output_type": "execute_result"
    }
   ],
   "source": [
    "str_list = ['aaaa', 'bb', 'ccccccc', 'dd']\n",
    "str_list.sort\n",
    "str_list"
   ]
  },
  {
   "cell_type": "code",
   "execution_count": 142,
   "metadata": {},
   "outputs": [
    {
     "data": {
      "text/plain": [
       "['bb', 'aaaa', 'ccccccc', 'dddasdfasdf']"
      ]
     },
     "execution_count": 142,
     "metadata": {},
     "output_type": "execute_result"
    }
   ],
   "source": [
    "str_list = ['aaaa', 'bb', 'ccccccc', 'dddasdfasdf']\n",
    "str_list.sort(key=lambda x:len(x))# key =함수 함수가 반환하는 숫자순서로 정렬\n",
    "str_list"
   ]
  },
  {
   "cell_type": "markdown",
   "metadata": {},
   "source": [
    "- filter(함수, 리스트) : 리스트 내 원소들 중 특정 조건을 만족하는 것들만 걸러내는 함수.\n",
    "                       : 원소 하나 하나를 함수에 전달해 True를 반환하는 것만 남긴다.\n",
    "                       : 결과를 미리 만들어놓고 있지 않는다\n",
    "\n",
    "- map(함수, 리스트) : 리스트 내 원소들을 처리해서 변형된 결과를 Iterable로 반환\n"
   ]
  },
  {
   "cell_type": "code",
   "execution_count": 149,
   "metadata": {
    "scrolled": true
   },
   "outputs": [
    {
     "data": {
      "text/plain": [
       "[2,\n",
       " 4,\n",
       " 6,\n",
       " 8,\n",
       " 10,\n",
       " 12,\n",
       " 14,\n",
       " 16,\n",
       " 18,\n",
       " 20,\n",
       " 22,\n",
       " 24,\n",
       " 26,\n",
       " 28,\n",
       " 30,\n",
       " 32,\n",
       " 34,\n",
       " 36,\n",
       " 38,\n",
       " 40,\n",
       " 42,\n",
       " 44,\n",
       " 46,\n",
       " 48,\n",
       " 50,\n",
       " 52,\n",
       " 54,\n",
       " 56,\n",
       " 58]"
      ]
     },
     "execution_count": 149,
     "metadata": {},
     "output_type": "execute_result"
    }
   ],
   "source": [
    "num_list = list(range(1,60))\n",
    "even_list = filter(lambda x :x%2==0, num_list)\n",
    "list(even_list) #Iterable 타입(제너레이터-range())\n",
    "# list(even_list)"
   ]
  },
  {
   "cell_type": "code",
   "execution_count": 146,
   "metadata": {},
   "outputs": [
    {
     "name": "stdout",
     "output_type": "stream",
     "text": [
      "2 4 6 8 10 12 14 16 18 20 22 24 26 28 30 32 34 36 38 40 42 44 46 48 50 52 54 56 58 60 62 64 66 68 70 72 74 76 78 80 82 84 86 88 90 92 94 96 98 "
     ]
    }
   ],
   "source": [
    "for i in even_list:\n",
    "    print(i, end=' ')"
   ]
  },
  {
   "cell_type": "code",
   "execution_count": 152,
   "metadata": {},
   "outputs": [
    {
     "data": {
      "text/plain": [
       "[2,\n",
       " 4,\n",
       " 6,\n",
       " 8,\n",
       " 10,\n",
       " 12,\n",
       " 14,\n",
       " 16,\n",
       " 18,\n",
       " 20,\n",
       " 22,\n",
       " 24,\n",
       " 26,\n",
       " 28,\n",
       " 30,\n",
       " 32,\n",
       " 34,\n",
       " 36,\n",
       " 38,\n",
       " 40,\n",
       " 42,\n",
       " 44,\n",
       " 46,\n",
       " 48,\n",
       " 50,\n",
       " 52,\n",
       " 54,\n",
       " 56,\n",
       " 58]"
      ]
     },
     "execution_count": 152,
     "metadata": {},
     "output_type": "execute_result"
    }
   ],
   "source": [
    "[num for num in num_list if num%2==0] # = list(even_list)"
   ]
  },
  {
   "cell_type": "code",
   "execution_count": 157,
   "metadata": {
    "scrolled": true
   },
   "outputs": [
    {
     "data": {
      "text/plain": [
       "[200,\n",
       " 400,\n",
       " 600,\n",
       " 800,\n",
       " 1000,\n",
       " 1200,\n",
       " 1400,\n",
       " 1600,\n",
       " 1800,\n",
       " 2000,\n",
       " 2200,\n",
       " 2400,\n",
       " 2600,\n",
       " 2800,\n",
       " 3000,\n",
       " 3200,\n",
       " 3400,\n",
       " 3600,\n",
       " 3800,\n",
       " 4000,\n",
       " 4200,\n",
       " 4400,\n",
       " 4600,\n",
       " 4800,\n",
       " 5000,\n",
       " 5200,\n",
       " 5400,\n",
       " 5600,\n",
       " 5800,\n",
       " 6000,\n",
       " 6200,\n",
       " 6400,\n",
       " 6600,\n",
       " 6800,\n",
       " 7000,\n",
       " 7200,\n",
       " 7400,\n",
       " 7600,\n",
       " 7800,\n",
       " 8000,\n",
       " 8200,\n",
       " 8400,\n",
       " 8600,\n",
       " 8800,\n",
       " 9000,\n",
       " 9200,\n",
       " 9400,\n",
       " 9600,\n",
       " 9800,\n",
       " 10000,\n",
       " 10200,\n",
       " 10400,\n",
       " 10600,\n",
       " 10800,\n",
       " 11000,\n",
       " 11200,\n",
       " 11400,\n",
       " 11600,\n",
       " 11800]"
      ]
     },
     "execution_count": 157,
     "metadata": {},
     "output_type": "execute_result"
    }
   ],
   "source": [
    "m = map(lambda x:x*200, num_list)\n",
    "list(m)"
   ]
  },
  {
   "cell_type": "code",
   "execution_count": 158,
   "metadata": {
    "scrolled": true
   },
   "outputs": [
    {
     "data": {
      "text/plain": [
       "[200,\n",
       " 400,\n",
       " 600,\n",
       " 800,\n",
       " 1000,\n",
       " 1200,\n",
       " 1400,\n",
       " 1600,\n",
       " 1800,\n",
       " 2000,\n",
       " 2200,\n",
       " 2400,\n",
       " 2600,\n",
       " 2800,\n",
       " 3000,\n",
       " 3200,\n",
       " 3400,\n",
       " 3600,\n",
       " 3800,\n",
       " 4000,\n",
       " 4200,\n",
       " 4400,\n",
       " 4600,\n",
       " 4800,\n",
       " 5000,\n",
       " 5200,\n",
       " 5400,\n",
       " 5600,\n",
       " 5800,\n",
       " 6000,\n",
       " 6200,\n",
       " 6400,\n",
       " 6600,\n",
       " 6800,\n",
       " 7000,\n",
       " 7200,\n",
       " 7400,\n",
       " 7600,\n",
       " 7800,\n",
       " 8000,\n",
       " 8200,\n",
       " 8400,\n",
       " 8600,\n",
       " 8800,\n",
       " 9000,\n",
       " 9200,\n",
       " 9400,\n",
       " 9600,\n",
       " 9800,\n",
       " 10000,\n",
       " 10200,\n",
       " 10400,\n",
       " 10600,\n",
       " 10800,\n",
       " 11000,\n",
       " 11200,\n",
       " 11400,\n",
       " 11600,\n",
       " 11800]"
      ]
     },
     "execution_count": 158,
     "metadata": {},
     "output_type": "execute_result"
    }
   ],
   "source": [
    "[num*200 for num in num_list]"
   ]
  },
  {
   "cell_type": "code",
   "execution_count": 156,
   "metadata": {},
   "outputs": [],
   "source": [
    "def aaaa(x):\n",
    "    return x*200\n"
   ]
  },
  {
   "cell_type": "code",
   "execution_count": 160,
   "metadata": {
    "scrolled": true
   },
   "outputs": [
    {
     "data": {
      "text/plain": [
       "[100,\n",
       " 300,\n",
       " 500,\n",
       " 700,\n",
       " 900,\n",
       " 1100,\n",
       " 1300,\n",
       " 1500,\n",
       " 1700,\n",
       " 1900,\n",
       " 2100,\n",
       " 2300,\n",
       " 2500,\n",
       " 2700,\n",
       " 2900,\n",
       " 3100,\n",
       " 3300,\n",
       " 3500,\n",
       " 3700,\n",
       " 3900,\n",
       " 4100,\n",
       " 4300,\n",
       " 4500,\n",
       " 4700,\n",
       " 4900,\n",
       " 5100,\n",
       " 5300,\n",
       " 5500,\n",
       " 5700,\n",
       " 5900]"
      ]
     },
     "execution_count": 160,
     "metadata": {},
     "output_type": "execute_result"
    }
   ],
   "source": [
    "# num_list 홀수 *100  --> 걸러낸 다음에 처리\n",
    "m1 = map(lambda x:x*100, filter(lambda x:x%2!=0, num_list))\n",
    "list(m1)"
   ]
  },
  {
   "cell_type": "code",
   "execution_count": null,
   "metadata": {},
   "outputs": [],
   "source": [
    "    "
   ]
  },
  {
   "cell_type": "code",
   "execution_count": null,
   "metadata": {},
   "outputs": [],
   "source": []
  },
  {
   "cell_type": "code",
   "execution_count": 164,
   "metadata": {},
   "outputs": [],
   "source": [
    "# docsting : 함수에 대한 설명\n",
    "# 함수의 구현부의 첫번째에 여러줄 문자열로 작성한다.\n",
    "\n",
    "# 함수 매개변수/리턴타입에 대한 힌트(주석)\n",
    "def printinfo(id:\"아이디-str\", name:str, age:int, address=None)->\"리턴값 주석\":\n",
    "    \"\"\"설명\n",
    "    매개변수 설명\n",
    "    리턴값 설명\n",
    "    예제\"\"\"\n",
    "    return f'{id}, {name}, {age}, {address}'\n"
   ]
  },
  {
   "cell_type": "code",
   "execution_count": null,
   "metadata": {},
   "outputs": [],
   "source": [
    "# tab :자동완성\n",
    "# shift + tab, tab"
   ]
  },
  {
   "cell_type": "code",
   "execution_count": 165,
   "metadata": {},
   "outputs": [],
   "source": [
    "?printinfo"
   ]
  },
  {
   "cell_type": "code",
   "execution_count": null,
   "metadata": {},
   "outputs": [],
   "source": [
    "name = 'abc'\n",
    "print(name)"
   ]
  },
  {
   "cell_type": "code",
   "execution_count": null,
   "metadata": {},
   "outputs": [],
   "source": [
    "printinfo"
   ]
  },
  {
   "cell_type": "code",
   "execution_count": 21,
   "metadata": {},
   "outputs": [
    {
     "name": "stdout",
     "output_type": "stream",
     "text": [
      "단을 입력하세요 : 5\n"
     ]
    },
    {
     "ename": "TypeError",
     "evalue": "can only concatenate tuple (not \"int\") to tuple",
     "output_type": "error",
     "traceback": [
      "\u001b[1;31m---------------------------------------------------------------------------\u001b[0m",
      "\u001b[1;31mTypeError\u001b[0m                                 Traceback (most recent call last)",
      "\u001b[1;32m<ipython-input-21-249445b4cf02>\u001b[0m in \u001b[0;36m<module>\u001b[1;34m\u001b[0m\n\u001b[0;32m     11\u001b[0m         \u001b[0md2\u001b[0m \u001b[1;33m+=\u001b[0m \u001b[1;36m1\u001b[0m\u001b[1;33m\u001b[0m\u001b[1;33m\u001b[0m\u001b[0m\n\u001b[0;32m     12\u001b[0m         \u001b[1;32mreturn\u001b[0m \u001b[0mresult\u001b[0m\u001b[1;33m\u001b[0m\u001b[1;33m\u001b[0m\u001b[0m\n\u001b[1;32m---> 13\u001b[1;33m \u001b[0mgu\u001b[0m\u001b[1;33m(\u001b[0m\u001b[0mdan\u001b[0m\u001b[1;33m,\u001b[0m \u001b[0md2\u001b[0m\u001b[1;33m)\u001b[0m\u001b[1;33m\u001b[0m\u001b[1;33m\u001b[0m\u001b[0m\n\u001b[0m",
      "\u001b[1;32m<ipython-input-21-249445b4cf02>\u001b[0m in \u001b[0;36mgu\u001b[1;34m(dan, d2)\u001b[0m\n\u001b[0;32m      9\u001b[0m     \u001b[0mresult\u001b[0m \u001b[1;33m=\u001b[0m \u001b[0mdan\u001b[0m\u001b[1;33m*\u001b[0m\u001b[0md2\u001b[0m\u001b[1;33m\u001b[0m\u001b[1;33m\u001b[0m\u001b[0m\n\u001b[0;32m     10\u001b[0m     \u001b[1;32mfor\u001b[0m \u001b[0mnum\u001b[0m \u001b[1;32min\u001b[0m \u001b[0mrange\u001b[0m\u001b[1;33m(\u001b[0m\u001b[1;36m1\u001b[0m\u001b[1;33m,\u001b[0m \u001b[1;36m10\u001b[0m\u001b[1;33m)\u001b[0m\u001b[1;33m:\u001b[0m\u001b[1;33m\u001b[0m\u001b[1;33m\u001b[0m\u001b[0m\n\u001b[1;32m---> 11\u001b[1;33m         \u001b[0md2\u001b[0m \u001b[1;33m+=\u001b[0m \u001b[1;36m1\u001b[0m\u001b[1;33m\u001b[0m\u001b[1;33m\u001b[0m\u001b[0m\n\u001b[0m\u001b[0;32m     12\u001b[0m         \u001b[1;32mreturn\u001b[0m \u001b[0mresult\u001b[0m\u001b[1;33m\u001b[0m\u001b[1;33m\u001b[0m\u001b[0m\n\u001b[0;32m     13\u001b[0m \u001b[0mgu\u001b[0m\u001b[1;33m(\u001b[0m\u001b[0mdan\u001b[0m\u001b[1;33m,\u001b[0m \u001b[0md2\u001b[0m\u001b[1;33m)\u001b[0m\u001b[1;33m\u001b[0m\u001b[1;33m\u001b[0m\u001b[0m\n",
      "\u001b[1;31mTypeError\u001b[0m: can only concatenate tuple (not \"int\") to tuple"
     ]
    }
   ],
   "source": [
    "# 1. 사용자가 입력한 단의 구구단을 출력하는 함수를 구현\n",
    "\n",
    "dan = int(input(\"단을 입력하세요 : \"))\n",
    "num = [1,2,3,4,5,6,7,8,9]\n",
    "#(\"%d x %d = %d\" %(dan, d2, dan * d2))\n",
    "\n",
    "def gu(dan, d2):\n",
    "    \n",
    "    result = dan*d2\n",
    "    for num in range(1, 10):\n",
    "        d2 += 1\n",
    "        return result\n",
    "gu(dan, d2)"
   ]
  },
  {
   "cell_type": "code",
   "execution_count": 4,
   "metadata": {},
   "outputs": [
    {
     "name": "stdout",
     "output_type": "stream",
     "text": [
      "시작하는 수를 입력해주세요 : 1\n",
      "끝나는 수를 입력해주세요 : 5\n"
     ]
    },
    {
     "data": {
      "text/plain": [
       "15"
      ]
     },
     "execution_count": 4,
     "metadata": {},
     "output_type": "execute_result"
    }
   ],
   "source": [
    "# 2. 시작 정수, 끝 정수를 받아 그 사이의 모든 정수의 합을 구해서 반환하는 함수를 구현\n",
    "\n",
    "# d = end  start # 1과 10을 입력받았다면 10-1, 9-1반복해서 1과 같아질때 멈추고 리스트를 생성하여 넣을 수 있게append\n",
    "start = int(input(\"시작하는 수를 입력해주세요 : \"))\n",
    "end = int(input(\"끝나는 수를 입력해주세요 : \"))\n",
    "\n",
    "def func_sum(start, end):\n",
    "    \n",
    "    result = 0\n",
    "    for num in range(start, end+1):\n",
    "        result += num\n",
    "    return result\n",
    "\n",
    "func_sum(start, end)\n"
   ]
  },
  {
   "cell_type": "code",
   "execution_count": null,
   "metadata": {},
   "outputs": [],
   "source": [
    "# 3. 1번 문제에서 시작을 받지 않은 경우 0을, 끝 정수를 받지 않으면 10이 들어가도록 구현을 변경"
   ]
  },
  {
   "cell_type": "code",
   "execution_count": 16,
   "metadata": {},
   "outputs": [
    {
     "name": "stdout",
     "output_type": "stream",
     "text": [
      "키를 입력하세요 : 1.74\n",
      "몸무게를 입력하세요 : 75\n",
      "정상\n",
      "24.772096710265558\n"
     ]
    }
   ],
   "source": [
    "# 4. 체질량 지수(體質量指數, Body Mass Index, BMI)는 비만도를 나타내는 지수로 키가 a미터 이고 몸무게가 b kg일때 b/a**2 로 구한다.\n",
    "# 체질량 지수가\n",
    "#- 18.5 미만이면 저체중\n",
    "#- 18.5이상 25미만이면 정상 \n",
    "#- 25이상이면 과체중\n",
    "#- 30이상이면 비만으로 하는데\n",
    "#몸무게와 키를 매개변수로 받아 비만인지 과체중인지 반환하는 함수를 구현하시오.\n",
    "\n",
    "h = float(input(\"키를 입력하세요 : \")) # 입력 방식 : 1.74m(=174cm)\n",
    "k = int(input(\"몸무게를 입력하세요 : \"))\n",
    "m = k/h**2\n",
    "\n",
    "if m < 18.5:\n",
    "    print(\"저체중\")\n",
    "elif m >18.5 and m < 25:\n",
    "    print(\"정상\")\n",
    "elif m >25:\n",
    "    print(\"과체중\")\n",
    "else:\n",
    "    print(\"비만\")\n",
    "print(m)"
   ]
  },
  {
   "cell_type": "code",
   "execution_count": 179,
   "metadata": {},
   "outputs": [
    {
     "data": {
      "text/plain": [
       "[1, 20, 3, 21]"
      ]
     },
     "execution_count": 179,
     "metadata": {},
     "output_type": "execute_result"
    }
   ],
   "source": [
    "# 람다식\n",
    "#5. filter를 이용해 다음 리스트에서 양수만 추출히 리스트를 구현\n",
    "ex1 = [1, -10, -2, 20, 3, -5, -7, 21]\n",
    "pn = filter(lambda x:x>0, ex1)\n",
    "list(pn)\n"
   ]
  },
  {
   "cell_type": "code",
   "execution_count": 185,
   "metadata": {},
   "outputs": [
    {
     "data": {
      "text/plain": [
       "[100, 4, 25, 49]"
      ]
     },
     "execution_count": 185,
     "metadata": {},
     "output_type": "execute_result"
    }
   ],
   "source": [
    "#6. filter와 map을 이용해 다음 리스트에서 음수만 추출한 뒤 그 제곱한 값들을 가지는 리스트를 구현\n",
    "ex2 = [1, -10, -2, 20, 3, -5, -7, 21]\n",
    "mn = map(lambda x:x**2, filter(lambda x:x<0, ex2))\n",
    "list(mn)"
   ]
  },
  {
   "cell_type": "code",
   "execution_count": null,
   "metadata": {},
   "outputs": [],
   "source": []
  },
  {
   "cell_type": "code",
   "execution_count": null,
   "metadata": {},
   "outputs": [],
   "source": []
  },
  {
   "cell_type": "code",
   "execution_count": null,
   "metadata": {},
   "outputs": [],
   "source": []
  },
  {
   "cell_type": "code",
   "execution_count": null,
   "metadata": {},
   "outputs": [],
   "source": []
  },
  {
   "cell_type": "code",
   "execution_count": null,
   "metadata": {},
   "outputs": [],
   "source": []
  },
  {
   "cell_type": "code",
   "execution_count": null,
   "metadata": {},
   "outputs": [],
   "source": []
  },
  {
   "cell_type": "code",
   "execution_count": null,
   "metadata": {},
   "outputs": [],
   "source": []
  },
  {
   "cell_type": "code",
   "execution_count": null,
   "metadata": {},
   "outputs": [],
   "source": []
  },
  {
   "cell_type": "code",
   "execution_count": null,
   "metadata": {},
   "outputs": [],
   "source": []
  },
  {
   "cell_type": "code",
   "execution_count": null,
   "metadata": {},
   "outputs": [],
   "source": []
  },
  {
   "cell_type": "code",
   "execution_count": null,
   "metadata": {},
   "outputs": [],
   "source": []
  },
  {
   "cell_type": "code",
   "execution_count": null,
   "metadata": {},
   "outputs": [],
   "source": []
  },
  {
   "cell_type": "code",
   "execution_count": null,
   "metadata": {},
   "outputs": [],
   "source": []
  },
  {
   "cell_type": "code",
   "execution_count": null,
   "metadata": {},
   "outputs": [],
   "source": []
  },
  {
   "cell_type": "code",
   "execution_count": null,
   "metadata": {},
   "outputs": [],
   "source": []
  },
  {
   "cell_type": "code",
   "execution_count": null,
   "metadata": {},
   "outputs": [],
   "source": []
  },
  {
   "cell_type": "code",
   "execution_count": null,
   "metadata": {},
   "outputs": [],
   "source": []
  },
  {
   "cell_type": "code",
   "execution_count": null,
   "metadata": {},
   "outputs": [],
   "source": []
  },
  {
   "cell_type": "code",
   "execution_count": null,
   "metadata": {},
   "outputs": [],
   "source": []
  },
  {
   "cell_type": "code",
   "execution_count": null,
   "metadata": {},
   "outputs": [],
   "source": []
  },
  {
   "cell_type": "code",
   "execution_count": null,
   "metadata": {},
   "outputs": [],
   "source": []
  },
  {
   "cell_type": "code",
   "execution_count": null,
   "metadata": {},
   "outputs": [],
   "source": []
  },
  {
   "cell_type": "code",
   "execution_count": null,
   "metadata": {},
   "outputs": [],
   "source": []
  },
  {
   "cell_type": "code",
   "execution_count": null,
   "metadata": {},
   "outputs": [],
   "source": []
  }
 ],
 "metadata": {
  "kernelspec": {
   "display_name": "Python 3",
   "language": "python",
   "name": "python3"
  },
  "language_info": {
   "codemirror_mode": {
    "name": "ipython",
    "version": 3
   },
   "file_extension": ".py",
   "mimetype": "text/x-python",
   "name": "python",
   "nbconvert_exporter": "python",
   "pygments_lexer": "ipython3",
   "version": "3.7.3"
  }
 },
 "nbformat": 4,
 "nbformat_minor": 2
}
