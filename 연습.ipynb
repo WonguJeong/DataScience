{
 "cells": [
  {
   "cell_type": "code",
   "execution_count": 5,
   "metadata": {},
   "outputs": [
    {
     "name": "stdout",
     "output_type": "stream",
     "text": [
      "합계 : 890\n",
      "평균 : 89.0\n"
     ]
    },
    {
     "data": {
      "text/plain": [
       "89.0"
      ]
     },
     "execution_count": 5,
     "metadata": {},
     "output_type": "execute_result"
    }
   ],
   "source": [
    "#(1) 아래 리스트의 평균을 구하시오. \n",
    "jumsu = [100, 90, 100, 80, 70, 100, 80, 90, 95, 85]\n",
    "\n",
    "sum_var = 0\n",
    "for num in jumsu:\n",
    "    sum_var += num\n",
    "    # sum_var = sum_var + num\n",
    "\n",
    "print(\"합계 :\", sum_var)\n",
    "print(\"평균 :\", sum_var/len(jumsu))\n",
    "avg = sum_var/len(jumsu)\n",
    "avg"
   ]
  },
  {
   "cell_type": "code",
   "execution_count": null,
   "metadata": {},
   "outputs": [],
   "source": [
    "#(2) 평균점수이상은 pass, 미만은 fail을 index번호와 함께 출력하시오. (ex: 0-pass, 1-pass, 2-fail)\n",
    "print(\"Pass\" if )"
   ]
  },
  {
   "cell_type": "code",
   "execution_count": 6,
   "metadata": {},
   "outputs": [
    {
     "name": "stdout",
     "output_type": "stream",
     "text": [
      "1\n",
      "3\n",
      "5\n",
      "6\n",
      "7\n"
     ]
    }
   ],
   "source": [
    "l = [1,3,5,6,7]\n",
    "\n",
    "for i in range(len(l)) :\n",
    "    print(l[i])"
   ]
  },
  {
   "cell_type": "code",
   "execution_count": 7,
   "metadata": {},
   "outputs": [
    {
     "data": {
      "text/plain": [
       "5"
      ]
     },
     "execution_count": 7,
     "metadata": {},
     "output_type": "execute_result"
    }
   ],
   "source": [
    "len(l)"
   ]
  },
  {
   "cell_type": "code",
   "execution_count": 8,
   "metadata": {},
   "outputs": [
    {
     "name": "stdout",
     "output_type": "stream",
     "text": [
      "2\n",
      "5\n",
      "7\n",
      "8\n",
      "3\n",
      "2\n",
      "23\n"
     ]
    }
   ],
   "source": [
    "l = [2, 5, 7, 8, 3,2, 23]\n",
    "for i in range(len(l)):\n",
    "    print(l[i])"
   ]
  },
  {
   "cell_type": "code",
   "execution_count": 9,
   "metadata": {},
   "outputs": [
    {
     "name": "stdout",
     "output_type": "stream",
     "text": [
      "단어를 입력하세요. 입력을 중단하려면 1을 입력하세요:2\n",
      "단어를 입력하세요. 입력을 중단하려면 1을 입력하세요:2\n",
      "단어를 입력하세요. 입력을 중단하려면 1을 입력하세요:2\n",
      "단어를 입력하세요. 입력을 중단하려면 1을 입력하세요:1\n",
      "2\t 2\t 2\t "
     ]
    }
   ],
   "source": [
    "wordslist = []\n",
    "\n",
    "while True :\n",
    "    word = input(\"단어를 입력하세요. 입력을 중단하려면 1을 입력하세요:\")\n",
    "    if word == \"1\" :\n",
    "        break\n",
    "    else :\n",
    "        wordslist.append(word)\n",
    "    \n",
    "\n",
    "for w in wordslist :\n",
    "    print(w, end = '\\t ')"
   ]
  },
  {
   "cell_type": "code",
   "execution_count": null,
   "metadata": {},
   "outputs": [],
   "source": []
  },
  {
   "cell_type": "code",
   "execution_count": null,
   "metadata": {},
   "outputs": [],
   "source": []
  },
  {
   "cell_type": "code",
   "execution_count": null,
   "metadata": {},
   "outputs": [],
   "source": []
  }
 ],
 "metadata": {
  "kernelspec": {
   "display_name": "Python 3",
   "language": "python",
   "name": "python3"
  },
  "language_info": {
   "codemirror_mode": {
    "name": "ipython",
    "version": 3
   },
   "file_extension": ".py",
   "mimetype": "text/x-python",
   "name": "python",
   "nbconvert_exporter": "python",
   "pygments_lexer": "ipython3",
   "version": "3.7.3"
  }
 },
 "nbformat": 4,
 "nbformat_minor": 2
}
