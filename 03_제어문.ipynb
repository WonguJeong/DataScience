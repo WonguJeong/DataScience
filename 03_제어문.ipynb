{
 "cells": [
  {
   "cell_type": "code",
   "execution_count": 2,
   "metadata": {},
   "outputs": [
    {
     "data": {
      "text/plain": [
       "True"
      ]
     },
     "execution_count": 2,
     "metadata": {},
     "output_type": "execute_result"
    }
   ],
   "source": [
    "bool([1,2])"
   ]
  },
  {
   "cell_type": "code",
   "execution_count": 3,
   "metadata": {},
   "outputs": [
    {
     "data": {
      "text/plain": [
       "(False, False)"
      ]
     },
     "execution_count": 3,
     "metadata": {},
     "output_type": "execute_result"
    }
   ],
   "source": [
    "bool([]), bool({})"
   ]
  },
  {
   "cell_type": "code",
   "execution_count": 4,
   "metadata": {},
   "outputs": [
    {
     "name": "stdout",
     "output_type": "stream",
     "text": [
      "0\n",
      "영\n",
      "종료\n"
     ]
    }
   ],
   "source": [
    "num = 0\n",
    "if num==0: # if문 선언\n",
    "    print(\"0\")\n",
    "    print(\"영\")\n",
    "    \n",
    "print(\"종료\")"
   ]
  },
  {
   "cell_type": "code",
   "execution_count": 5,
   "metadata": {},
   "outputs": [
    {
     "name": "stdout",
     "output_type": "stream",
     "text": [
      "0아님\n",
      "종료\n"
     ]
    }
   ],
   "source": [
    "num = 10\n",
    "if num==0: # if문 선언\n",
    "    print(\"0\")\n",
    "    print(\"영\")\n",
    "else:\n",
    "    print(\"0아님\")\n",
    "    \n",
    "print(\"종료\")"
   ]
  },
  {
   "cell_type": "code",
   "execution_count": 6,
   "metadata": {},
   "outputs": [
    {
     "name": "stdout",
     "output_type": "stream",
     "text": [
      "음수\n",
      "종료\n"
     ]
    }
   ],
   "source": [
    "num = -2\n",
    "if num==0: # if문 선언\n",
    "    print(\"0\")\n",
    "    print(\"영\")\n",
    "elif num>0:\n",
    "    print(\"양수\")\n",
    "elif num<0: # else로 해도 같은 결과\n",
    "    print(\"음수\")\n",
    "print(\"종료\")"
   ]
  },
  {
   "cell_type": "code",
   "execution_count": 7,
   "metadata": {},
   "outputs": [
    {
     "name": "stdout",
     "output_type": "stream",
     "text": [
      "id: 1\n",
      "1를 저장했습니다\n"
     ]
    }
   ],
   "source": [
    "id = input('id: ')\n",
    "# id를 입력했으면 저장, 안했으면 오류메세지\n",
    "if id.strip(): #빈문자열 : False, 1글자 이상 : True, len(id)도 가능\n",
    "    print(id+\"를 저장했습니다\")\n",
    "else:\n",
    "    print(\"아이디를 입력하세요\")"
   ]
  },
  {
   "cell_type": "code",
   "execution_count": 8,
   "metadata": {},
   "outputs": [
    {
     "name": "stdout",
     "output_type": "stream",
     "text": [
      "도시명 : 1\n",
      "1는 일반시\n"
     ]
    }
   ],
   "source": [
    "city = input(\"도시명 : \").strip()\n",
    "if city=='서울시':\n",
    "    print('서울시: 특별시')\n",
    "elif city in ['인천시', '대구시', '대전시', '부산시', '광주시', '울산시']:\n",
    "    print(f'{city}는 광역시')\n",
    "    print('{}는 광역시'.format(city))\n",
    "    print('%s는 광역시' % city)\n",
    "else:\n",
    "    print('{}는 일반시'.format(city))"
   ]
  },
  {
   "cell_type": "markdown",
   "metadata": {},
   "source": [
    "# while"
   ]
  },
  {
   "cell_type": "code",
   "execution_count": 9,
   "metadata": {
    "scrolled": true
   },
   "outputs": [
    {
     "name": "stdout",
     "output_type": "stream",
     "text": [
      "limit:1\n",
      "0\n"
     ]
    }
   ],
   "source": [
    "limit = int(input(\"limit:\"))\n",
    "count = 0\n",
    "while count < limit:\n",
    "    print(count)\n",
    "    #count = count + 1\n",
    "    count += 1 # 대입연산자\n",
    "    "
   ]
  },
  {
   "cell_type": "markdown",
   "metadata": {},
   "source": [
    "# for in 문"
   ]
  },
  {
   "cell_type": "code",
   "execution_count": 10,
   "metadata": {},
   "outputs": [
    {
     "name": "stdout",
     "output_type": "stream",
     "text": [
      "10\n",
      "20\n",
      "30\n",
      "40\n",
      "50\n"
     ]
    }
   ],
   "source": [
    "nums = [10,20,30,40,50]\n",
    "for a in nums:\n",
    "    print(a)"
   ]
  },
  {
   "cell_type": "code",
   "execution_count": 11,
   "metadata": {},
   "outputs": [
    {
     "name": "stdout",
     "output_type": "stream",
     "text": [
      "1\n",
      "2\n",
      "3\n",
      "4\n"
     ]
    }
   ],
   "source": [
    "t = 1, 2, 3, 4\n",
    "for num in t:\n",
    "    print(num)"
   ]
  },
  {
   "cell_type": "code",
   "execution_count": 12,
   "metadata": {},
   "outputs": [
    {
     "data": {
      "text/plain": [
       "{'a': 10, 'b': 20, 'c': 30}"
      ]
     },
     "execution_count": 12,
     "metadata": {},
     "output_type": "execute_result"
    }
   ],
   "source": [
    "dic = dict(a =10, b=20, c=30)\n",
    "dic"
   ]
  },
  {
   "cell_type": "code",
   "execution_count": 13,
   "metadata": {},
   "outputs": [
    {
     "name": "stdout",
     "output_type": "stream",
     "text": [
      "a\n",
      "b\n",
      "c\n"
     ]
    }
   ],
   "source": [
    "for key in dic: # key값이 반복 조회된다.\n",
    "    print(key)"
   ]
  },
  {
   "cell_type": "code",
   "execution_count": 14,
   "metadata": {},
   "outputs": [
    {
     "name": "stdout",
     "output_type": "stream",
     "text": [
      "안\n",
      "녕\n",
      "하\n",
      "세\n",
      "요\n",
      ".\n",
      " \n",
      "a\n",
      "b\n",
      "c\n",
      "d\n",
      "e\n",
      ".\n"
     ]
    }
   ],
   "source": [
    "for c in \"안녕하세요. abcde.\":\n",
    "    print(c)"
   ]
  },
  {
   "cell_type": "markdown",
   "metadata": {},
   "source": [
    "# break, continue\n",
    "- 반복문에서 사용하는 예약어\n",
    "- break : 반복을 멈춰라.\n",
    "- continue : 조건을 다시 비교, 다음 원소를 반복 조회해라."
   ]
  },
  {
   "cell_type": "code",
   "execution_count": 15,
   "metadata": {
    "scrolled": true
   },
   "outputs": [
    {
     "name": "stdout",
     "output_type": "stream",
     "text": [
      "0\n",
      "1\n",
      "2\n",
      "3\n",
      "4\n",
      "5\n",
      "6\n",
      "7\n",
      "8\n",
      "9\n"
     ]
    }
   ],
   "source": [
    "num = 0\n",
    "while True:\n",
    "    if num >=10:\n",
    "        break\n",
    "    print(num)\n",
    "    num += 1 # num = num+1"
   ]
  },
  {
   "cell_type": "code",
   "execution_count": 16,
   "metadata": {},
   "outputs": [
    {
     "name": "stdout",
     "output_type": "stream",
     "text": [
      "0\n",
      "5\n",
      "10\n",
      "15\n",
      "20\n",
      "25\n",
      "30\n"
     ]
    }
   ],
   "source": [
    "num = 0\n",
    "while num <=30:\n",
    "    if num%5==0:# 5의 배수\n",
    "        print(num)\n",
    "    num +=1"
   ]
  },
  {
   "cell_type": "code",
   "execution_count": 17,
   "metadata": {
    "scrolled": false
   },
   "outputs": [
    {
     "name": "stdout",
     "output_type": "stream",
     "text": [
      "0\n",
      "5\n",
      "10\n",
      "15\n",
      "20\n",
      "25\n",
      "30\n"
     ]
    }
   ],
   "source": [
    "num = 0\n",
    "while num <=30:\n",
    "    if num%5 !=0:# 5의 배수가 아니면\n",
    "        num+=1\n",
    "        continue\n",
    "    print(num)\n",
    "    num +=1"
   ]
  },
  {
   "cell_type": "markdown",
   "metadata": {},
   "source": [
    "# for in 문 관련 함수\n",
    "- range()"
   ]
  },
  {
   "cell_type": "code",
   "execution_count": 18,
   "metadata": {},
   "outputs": [
    {
     "name": "stdout",
     "output_type": "stream",
     "text": [
      "range(1, 100, 5)\n"
     ]
    }
   ],
   "source": [
    "print(range(1, 100, 5))"
   ]
  },
  {
   "cell_type": "code",
   "execution_count": 19,
   "metadata": {},
   "outputs": [
    {
     "data": {
      "text/plain": [
       "[1, 6, 11, 16, 21, 26, 31, 36, 41, 46, 51, 56, 61, 66, 71, 76, 81, 86, 91, 96]"
      ]
     },
     "execution_count": 19,
     "metadata": {},
     "output_type": "execute_result"
    }
   ],
   "source": [
    "# range를 이용해 list/tuple/set 생성\n",
    "li = list(range(1, 100, 5))\n",
    "li"
   ]
  },
  {
   "cell_type": "code",
   "execution_count": 20,
   "metadata": {},
   "outputs": [
    {
     "data": {
      "text/plain": [
       "(0, 1, 2, 3, 4, 5, 6, 7, 8, 9)"
      ]
     },
     "execution_count": 20,
     "metadata": {},
     "output_type": "execute_result"
    }
   ],
   "source": [
    "t1 = tuple(range(10)) # 멈춤값, 0~10-1, 1씩증가\n",
    "t1"
   ]
  },
  {
   "cell_type": "code",
   "execution_count": 21,
   "metadata": {},
   "outputs": [
    {
     "data": {
      "text/plain": [
       "[10, 9, 8, 7, 6, 5, 4, 3, 2, 1]"
      ]
     },
     "execution_count": 21,
     "metadata": {},
     "output_type": "execute_result"
    }
   ],
   "source": [
    "s1 = list(range(10, 0, -1))\n",
    "s1"
   ]
  },
  {
   "cell_type": "code",
   "execution_count": 22,
   "metadata": {},
   "outputs": [
    {
     "name": "stdout",
     "output_type": "stream",
     "text": [
      "0\t1\t2\t3\t4\t5\t6\t7\t8\t9\t"
     ]
    }
   ],
   "source": [
    "for num in range(10):\n",
    "    print(num, end = '\\t')"
   ]
  },
  {
   "cell_type": "markdown",
   "metadata": {},
   "source": [
    "- enumerate(): index(몇번째 반복)과 원소를 묶어서 tuple로 반환"
   ]
  },
  {
   "cell_type": "code",
   "execution_count": 23,
   "metadata": {},
   "outputs": [
    {
     "data": {
      "text/plain": [
       "[0, 1, 2, 3, 4, 5]"
      ]
     },
     "execution_count": 23,
     "metadata": {},
     "output_type": "execute_result"
    }
   ],
   "source": [
    "l2 = list(range(6))\n",
    "l2"
   ]
  },
  {
   "cell_type": "code",
   "execution_count": 24,
   "metadata": {},
   "outputs": [
    {
     "name": "stdout",
     "output_type": "stream",
     "text": [
      "0 0\n",
      "1 1\n",
      "2 2\n",
      "3 3\n",
      "4 4\n",
      "5 5\n"
     ]
    }
   ],
   "source": [
    "# for num in enumerate(l2):\n",
    "for idx, num in enumerate(l2):\n",
    "    print(idx, num)"
   ]
  },
  {
   "cell_type": "code",
   "execution_count": 25,
   "metadata": {},
   "outputs": [
    {
     "name": "stdout",
     "output_type": "stream",
     "text": [
      "0 가\n",
      "2 다\n"
     ]
    }
   ],
   "source": [
    "s = ['가', '나', '다', '라']\n",
    "for i, ss in enumerate(s):\n",
    "    if i % 2 ==0:\n",
    "        print(i, ss)"
   ]
  },
  {
   "cell_type": "code",
   "execution_count": 26,
   "metadata": {},
   "outputs": [
    {
     "name": "stdout",
     "output_type": "stream",
     "text": [
      "100 0\n",
      "101 1\n",
      "102 2\n",
      "103 3\n",
      "104 4\n",
      "105 5\n"
     ]
    }
   ],
   "source": [
    "for i, num in enumerate(l2, start=100):\n",
    "    print(i, num)"
   ]
  },
  {
   "cell_type": "code",
   "execution_count": 27,
   "metadata": {},
   "outputs": [
    {
     "name": "stdout",
     "output_type": "stream",
     "text": [
      "안녕\n",
      "안녕\n",
      "안녕\n",
      "안녕\n",
      "안녕\n",
      "안녕\n"
     ]
    }
   ],
   "source": [
    "# 안녕 10번 출력-  특정 작업을 n번 반복할때\n",
    "for _ in range(6): #(변수명으로 _를 사용할 수 있음, 소모하는 값으로)\n",
    "    print(\"안녕\")"
   ]
  },
  {
   "cell_type": "markdown",
   "metadata": {},
   "source": [
    "- zip(자료구조들, ...)\n",
    "    - 반복시 마다 같은 index의 값들을 묶어서 반환"
   ]
  },
  {
   "cell_type": "code",
   "execution_count": 28,
   "metadata": {},
   "outputs": [],
   "source": [
    "ids = ['id1', 'id2', 'id3', 'id4', 'id5','id10', 'id21']\n",
    "ages = [20, 30, 40, 45, 28]\n",
    "talls = [167.3, 163.8, 174.4, 156.7, 189.9]"
   ]
  },
  {
   "cell_type": "code",
   "execution_count": 29,
   "metadata": {},
   "outputs": [
    {
     "name": "stdout",
     "output_type": "stream",
     "text": [
      "7 5 5\n"
     ]
    }
   ],
   "source": [
    "print(len(ids), len(ages), len(talls))"
   ]
  },
  {
   "cell_type": "code",
   "execution_count": 30,
   "metadata": {},
   "outputs": [
    {
     "name": "stdout",
     "output_type": "stream",
     "text": [
      "('id1', 20, 167.3)\n",
      "('id2', 30, 163.8)\n",
      "('id3', 40, 174.4)\n",
      "('id4', 45, 156.7)\n",
      "('id5', 28, 189.9)\n"
     ]
    }
   ],
   "source": [
    "for info in zip(ids, ages, talls):\n",
    "    print(info)"
   ]
  },
  {
   "cell_type": "code",
   "execution_count": 31,
   "metadata": {},
   "outputs": [
    {
     "name": "stdout",
     "output_type": "stream",
     "text": [
      "아이디:id1, 나이:20, 키:167.3\n",
      "아이디:id2, 나이:30, 키:163.8\n",
      "아이디:id3, 나이:40, 키:174.4\n",
      "아이디:id4, 나이:45, 키:156.7\n",
      "아이디:id5, 나이:28, 키:189.9\n"
     ]
    }
   ],
   "source": [
    "for id, age, tall in zip(ids, ages, talls):\n",
    "    print(f'아이디:{id}, 나이:{age}, 키:{tall}')"
   ]
  },
  {
   "cell_type": "markdown",
   "metadata": {},
   "source": [
    "## comprehension(내포)"
   ]
  },
  {
   "cell_type": "code",
   "execution_count": 32,
   "metadata": {},
   "outputs": [
    {
     "data": {
      "text/plain": [
       "[0, 1, 2, 3, 4, 5]"
      ]
     },
     "execution_count": 32,
     "metadata": {},
     "output_type": "execute_result"
    }
   ],
   "source": [
    "l3 = list(range(6))\n",
    "l3"
   ]
  },
  {
   "cell_type": "code",
   "execution_count": 33,
   "metadata": {},
   "outputs": [],
   "source": [
    "# l3의 각 원소 *10한 값을 가진 리스트를 생성\n",
    "result_list = []\n",
    "for num in l3:\n",
    "    result_list.append(num*10) # list.append(값): list에 값을 추가"
   ]
  },
  {
   "cell_type": "code",
   "execution_count": 34,
   "metadata": {},
   "outputs": [
    {
     "data": {
      "text/plain": [
       "[0, 10, 20, 30, 40, 50]"
      ]
     },
     "execution_count": 34,
     "metadata": {},
     "output_type": "execute_result"
    }
   ],
   "source": [
    "result_list"
   ]
  },
  {
   "cell_type": "code",
   "execution_count": 35,
   "metadata": {},
   "outputs": [
    {
     "data": {
      "text/plain": [
       "[0, 10, 20, 30, 40, 50]"
      ]
     },
     "execution_count": 35,
     "metadata": {},
     "output_type": "execute_result"
    }
   ],
   "source": [
    "results = [num*10 for num in l3]\n",
    "results"
   ]
  },
  {
   "cell_type": "code",
   "execution_count": 36,
   "metadata": {},
   "outputs": [
    {
     "data": {
      "text/plain": [
       "[0, 1, 2, 3, 4, 5]"
      ]
     },
     "execution_count": 36,
     "metadata": {},
     "output_type": "execute_result"
    }
   ],
   "source": [
    "l3"
   ]
  },
  {
   "cell_type": "code",
   "execution_count": 37,
   "metadata": {},
   "outputs": [
    {
     "data": {
      "text/plain": [
       "[-6, -5, -4, -3, -2, -1]"
      ]
     },
     "execution_count": 37,
     "metadata": {},
     "output_type": "execute_result"
    }
   ],
   "source": [
    "# l3의 각 원소의 값 - 10한 값을 가지는 리스트를 생성\n",
    "result2 = [num-6 for num in l3]\n",
    "result2"
   ]
  },
  {
   "cell_type": "markdown",
   "metadata": {},
   "source": [
    "- 리스트 컴프리헨션\n",
    " - 자료구조의 원소를 처리한 값을 **리스트**에 넣는 구문.\n",
    "- 셋(set) 컴프리헨션\n",
    "- 딕셔너리(Dictionary) 컴프리헨션\n",
    "  - 처리한 결과를 어디에 넣는지에 따라\n",
    "- **튜플 컴프리헨션은 없다**\n",
    "- 셋/딕셔너리 컴프리헨션은 파이썬 3.0에 추가된 문법"
   ]
  },
  {
   "cell_type": "code",
   "execution_count": 38,
   "metadata": {},
   "outputs": [
    {
     "data": {
      "text/plain": [
       "{-6, -5, -4, -3, -2, -1}"
      ]
     },
     "execution_count": 38,
     "metadata": {},
     "output_type": "execute_result"
    }
   ],
   "source": [
    "# set 컴프리헨션 # {} 어떤 것으로 묶었느냐에 따라\n",
    "{num-6 for num in l3}"
   ]
  },
  {
   "cell_type": "code",
   "execution_count": 39,
   "metadata": {},
   "outputs": [
    {
     "data": {
      "text/plain": [
       "{'key0': -6, 'key1': -5, 'key2': -4, 'key3': -3, 'key4': -2, 'key5': -1}"
      ]
     },
     "execution_count": 39,
     "metadata": {},
     "output_type": "execute_result"
    }
   ],
   "source": [
    "#딕셔너리 컴프리헨션\n",
    "{'key'+str(i):num-6 for i, num in enumerate(l3)}\n"
   ]
  },
  {
   "cell_type": "code",
   "execution_count": 40,
   "metadata": {},
   "outputs": [
    {
     "data": {
      "text/plain": [
       "[0, 1, 2, 3, 4, 5, 6, 7, 8, 9, 10, 11, 12, 13, 14, 15, 16, 17, 18, 19, 20]"
      ]
     },
     "execution_count": 40,
     "metadata": {},
     "output_type": "execute_result"
    }
   ],
   "source": [
    "l4 = list(range(0, 21))\n",
    "l4"
   ]
  },
  {
   "cell_type": "code",
   "execution_count": 41,
   "metadata": {},
   "outputs": [],
   "source": [
    "# l4의 원소중 5의 배수값들인 원소 *5들을 가지는 리스트 생성\n",
    "\n",
    "result_list3 = []\n",
    "for num in l4:\n",
    "    if num%5==0:\n",
    "        result_list3.append(num*5)"
   ]
  },
  {
   "cell_type": "code",
   "execution_count": 42,
   "metadata": {},
   "outputs": [
    {
     "data": {
      "text/plain": [
       "[0, 25, 50, 75, 100]"
      ]
     },
     "execution_count": 42,
     "metadata": {},
     "output_type": "execute_result"
    }
   ],
   "source": [
    "result_list3"
   ]
  },
  {
   "cell_type": "code",
   "execution_count": 43,
   "metadata": {},
   "outputs": [
    {
     "data": {
      "text/plain": [
       "[0, 25, 50, 75, 100]"
      ]
     },
     "execution_count": 43,
     "metadata": {},
     "output_type": "execute_result"
    }
   ],
   "source": [
    "result_list5 = [num*5 for num in l4 if num%5==0] # 전에 일어날 일을 뒤로 빼주자\n",
    "result_list5"
   ]
  },
  {
   "cell_type": "code",
   "execution_count": 44,
   "metadata": {},
   "outputs": [
    {
     "data": {
      "text/plain": [
       "5"
      ]
     },
     "execution_count": 44,
     "metadata": {},
     "output_type": "execute_result"
    }
   ],
   "source": [
    "len(result_list5)"
   ]
  },
  {
   "cell_type": "code",
   "execution_count": 45,
   "metadata": {},
   "outputs": [
    {
     "name": "stdout",
     "output_type": "stream",
     "text": [
      "1\t2\t3\t\n",
      "10\t20\t30\t\n"
     ]
    }
   ],
   "source": [
    "l5 = [[1,2,3], [10, 20, 30]]\n",
    "for i in l5:\n",
    "    for j in i:\n",
    "        print(j, end = '\\t')\n",
    "    print()"
   ]
  },
  {
   "cell_type": "code",
   "execution_count": 46,
   "metadata": {},
   "outputs": [
    {
     "data": {
      "text/plain": [
       "[[1, 2, 3], [10, 20, 30]]"
      ]
     },
     "execution_count": 46,
     "metadata": {},
     "output_type": "execute_result"
    }
   ],
   "source": [
    "[i for i in l5]"
   ]
  },
  {
   "cell_type": "code",
   "execution_count": 47,
   "metadata": {},
   "outputs": [
    {
     "data": {
      "text/plain": [
       "[1, 2, 3, 10, 20, 30]"
      ]
     },
     "execution_count": 47,
     "metadata": {},
     "output_type": "execute_result"
    }
   ],
   "source": [
    "[j for i in l5 for j in i]"
   ]
  },
  {
   "cell_type": "code",
   "execution_count": 48,
   "metadata": {},
   "outputs": [
    {
     "data": {
      "text/plain": [
       "[2, 10, 20, 30]"
      ]
     },
     "execution_count": 48,
     "metadata": {},
     "output_type": "execute_result"
    }
   ],
   "source": [
    "[j for i in l5 for j in i if j%2==0]"
   ]
  },
  {
   "cell_type": "code",
   "execution_count": null,
   "metadata": {},
   "outputs": [],
   "source": []
  },
  {
   "cell_type": "code",
   "execution_count": 49,
   "metadata": {},
   "outputs": [
    {
     "name": "stdout",
     "output_type": "stream",
     "text": [
      "합계: 890\n",
      "평균: 89.0\n"
     ]
    },
    {
     "data": {
      "text/plain": [
       "89.0"
      ]
     },
     "execution_count": 49,
     "metadata": {},
     "output_type": "execute_result"
    }
   ],
   "source": [
    "#(1) 아래 리스트의 평균을 구하시오. \n",
    "jumsu = [100, 90, 100, 80, 70, 100, 80, 90, 95, 85]\n",
    "# 합계 저장할 변수\n",
    "sum_var = 0\n",
    "for num in jumsu:\n",
    "    sum_var = sum_var +num\n",
    "    #sum_var += num\n",
    "print(\"합계:\", sum_var)\n",
    "print(\"평균:\", sum_var/len(jumsu))\n",
    "avg = sum_var/len(jumsu)\n",
    "avg"
   ]
  },
  {
   "cell_type": "code",
   "execution_count": 50,
   "metadata": {},
   "outputs": [
    {
     "name": "stdout",
     "output_type": "stream",
     "text": [
      "0-pass\n",
      "1-pass\n",
      "2-pass\n",
      "3-Fail\n",
      "4-Fail\n",
      "5-pass\n",
      "6-Fail\n",
      "7-pass\n",
      "8-pass\n",
      "9-Fail\n"
     ]
    }
   ],
   "source": [
    "#(2) 평균점수이상은 pass, 미만은 fail을 index번호와 함께 출력하시오. (ex: 0-pass, 1-pass, 2-fail)\n",
    "\n",
    "for idx, score in enumerate(jumsu):\n",
    "    if score>=avg:\n",
    "        print(\"{}-{}\".format(idx, 'pass'))\n",
    "    else:\n",
    "        print(\"{}-{}\".format(idx, 'Fail'))\n",
    " "
   ]
  },
  {
   "cell_type": "code",
   "execution_count": 51,
   "metadata": {},
   "outputs": [
    {
     "ename": "TypeError",
     "evalue": "cannot unpack non-iterable int object",
     "output_type": "error",
     "traceback": [
      "\u001b[1;31m---------------------------------------------------------------------------\u001b[0m",
      "\u001b[1;31mTypeError\u001b[0m                                 Traceback (most recent call last)",
      "\u001b[1;32m<ipython-input-51-a732d689e24e>\u001b[0m in \u001b[0;36m<module>\u001b[1;34m\u001b[0m\n\u001b[0;32m      1\u001b[0m \u001b[0mtest_list\u001b[0m \u001b[1;33m=\u001b[0m \u001b[1;33m[\u001b[0m\u001b[1;33m]\u001b[0m\u001b[1;33m\u001b[0m\u001b[1;33m\u001b[0m\u001b[0m\n\u001b[1;32m----> 2\u001b[1;33m \u001b[1;32mfor\u001b[0m \u001b[0midx\u001b[0m\u001b[1;33m,\u001b[0m \u001b[0mscore\u001b[0m \u001b[1;32min\u001b[0m \u001b[0mjumsu\u001b[0m\u001b[1;33m:\u001b[0m\u001b[1;33m\u001b[0m\u001b[1;33m\u001b[0m\u001b[0m\n\u001b[0m\u001b[0;32m      3\u001b[0m     \u001b[1;32mif\u001b[0m \u001b[0mscore\u001b[0m\u001b[1;33m>=\u001b[0m\u001b[0mavg\u001b[0m\u001b[1;33m:\u001b[0m\u001b[1;33m\u001b[0m\u001b[1;33m\u001b[0m\u001b[0m\n\u001b[0;32m      4\u001b[0m         \u001b[0mtest_list\u001b[0m\u001b[1;33m.\u001b[0m\u001b[0mappend\u001b[0m\u001b[1;33m(\u001b[0m\u001b[1;34m\"Pass\"\u001b[0m\u001b[1;33m)\u001b[0m\u001b[1;33m\u001b[0m\u001b[1;33m\u001b[0m\u001b[0m\n\u001b[0;32m      5\u001b[0m     \u001b[1;32melse\u001b[0m\u001b[1;33m:\u001b[0m\u001b[1;33m\u001b[0m\u001b[1;33m\u001b[0m\u001b[0m\n",
      "\u001b[1;31mTypeError\u001b[0m: cannot unpack non-iterable int object"
     ]
    }
   ],
   "source": [
    "test_list = []\n",
    "for idx, score in jumsu:\n",
    "    if score>=avg:\n",
    "        test_list.append(\"Pass\")\n",
    "    else:\n",
    "        test_list.append(\"Fail\")\n",
    "test_list"
   ]
  },
  {
   "cell_type": "code",
   "execution_count": 52,
   "metadata": {},
   "outputs": [
    {
     "data": {
      "text/plain": [
       "['Pass',\n",
       " 'Pass',\n",
       " 'Pass',\n",
       " 'Fail',\n",
       " 'Fail',\n",
       " 'Pass',\n",
       " 'Fail',\n",
       " 'Pass',\n",
       " 'Pass',\n",
       " 'Fail']"
      ]
     },
     "execution_count": 52,
     "metadata": {},
     "output_type": "execute_result"
    }
   ],
   "source": [
    "[\"Pass\" if score>=avg else \"Fail\" for score in jumsu]"
   ]
  },
  {
   "cell_type": "code",
   "execution_count": 53,
   "metadata": {},
   "outputs": [
    {
     "name": "stdout",
     "output_type": "stream",
     "text": [
      "0 Pass\n",
      "1 Pass\n",
      "2 Pass\n",
      "3 Fail\n",
      "4 Fail\n",
      "5 Pass\n",
      "6 Fail\n",
      "7 Pass\n",
      "8 Pass\n",
      "9 Fail\n"
     ]
    }
   ],
   "source": [
    "for idx, score in enumerate(jumsu):\n",
    "    print(idx, \"Pass\" if score>=avg else \"Fail\" )"
   ]
  },
  {
   "cell_type": "code",
   "execution_count": 54,
   "metadata": {},
   "outputs": [
    {
     "name": "stdout",
     "output_type": "stream",
     "text": [
      "최대값:  100\n"
     ]
    }
   ],
   "source": [
    "#(3) 아래 리스트 값들 중 최대값을 조회해 출력\n",
    "jumsu = [60, 90, 80, 80, 70, 55, 80, 90, 95, 85, 100]\n",
    "\n",
    "max_var=jumsu[0] # 최대값을 저장할 변수\n",
    "for num in jumsu:\n",
    "    #max_var <= num 면 max_var를 num으로 교체(변경)\n",
    "    if max_var < num:\n",
    "        max_var = num\n",
    "print(\"최대값: \", max_var)"
   ]
  },
  {
   "cell_type": "code",
   "execution_count": 55,
   "metadata": {},
   "outputs": [
    {
     "name": "stdout",
     "output_type": "stream",
     "text": [
      "885\n",
      "885\n",
      "100\n",
      "55\n",
      "80.45\n"
     ]
    },
    {
     "data": {
      "text/plain": [
       "80.45"
      ]
     },
     "execution_count": 55,
     "metadata": {},
     "output_type": "execute_result"
    }
   ],
   "source": [
    "# 내장함수\n",
    "print(sum(jumsu))# 자료구조내 모든 숫자들의 합계 계산\n",
    "print(sum(tuple(jumsu)))\n",
    "print(max(jumsu))\n",
    "print(min(jumsu))\n",
    "print(\"%.2f\" % (sum(jumsu)/len(jumsu)))\n",
    "a = sum(jumsu)/len(jumsu)\n",
    "round(a,2) # round(대상값, 자릿수) # 자릿수 이하에서 반올림\n",
    "# (양수 : 소숫점이하자리, 음수 : 정수 자리)"
   ]
  },
  {
   "cell_type": "code",
   "execution_count": 56,
   "metadata": {},
   "outputs": [
    {
     "name": "stdout",
     "output_type": "stream",
     "text": [
      "1807\n",
      "1806.65\n",
      "1800.0\n"
     ]
    }
   ],
   "source": [
    "n = 1806.6548\n",
    "print(round(n))\n",
    "print(round(n, 2))\n",
    "print(round(n, -2))"
   ]
  },
  {
   "cell_type": "code",
   "execution_count": 59,
   "metadata": {},
   "outputs": [
    {
     "name": "stdout",
     "output_type": "stream",
     "text": [
      "단 : 5\n",
      "5 X 1 = 5\n",
      "5 X 2 = 10\n",
      "5 X 3 = 15\n",
      "5 X 4 = 20\n",
      "5 X 5 = 25\n",
      "5 X 6 = 30\n",
      "5 X 7 = 35\n",
      "5 X 8 = 40\n",
      "5 X 9 = 45\n"
     ]
    }
   ],
   "source": [
    "#(4) 사용자로부터 정수를 입력받아 그 단의 구구단을 출력하시오. \n",
    "# ex) 단을 입력하시오 : 2  \n",
    "# 2 x 1 = 2\n",
    "# 2 x 2 = 4\n",
    "#..\n",
    "# 2 x 9 = 18\n",
    "dan = int(input(\"단 : \"))\n",
    "for i in range(1, 10):\n",
    "    print('{} X {} = {}'.format(dan, i, dan*i))"
   ]
  },
  {
   "cell_type": "code",
   "execution_count": 58,
   "metadata": {},
   "outputs": [
    {
     "name": "stdout",
     "output_type": "stream",
     "text": [
      "2 X 1 = 2\t3 X 1 = 3\t4 X 1 = 4\t5 X 1 = 5\t6 X 1 = 6\t7 X 1 = 7\t8 X 1 = 8\t9 X 1 = 9\t\n",
      "2 X 2 = 4\t3 X 2 = 6\t4 X 2 = 8\t5 X 2 = 10\t6 X 2 = 12\t7 X 2 = 14\t8 X 2 = 16\t9 X 2 = 18\t\n",
      "2 X 3 = 6\t3 X 3 = 9\t4 X 3 = 12\t5 X 3 = 15\t6 X 3 = 18\t7 X 3 = 21\t8 X 3 = 24\t9 X 3 = 27\t\n",
      "2 X 4 = 8\t3 X 4 = 12\t4 X 4 = 16\t5 X 4 = 20\t6 X 4 = 24\t7 X 4 = 28\t8 X 4 = 32\t9 X 4 = 36\t\n",
      "2 X 5 = 10\t3 X 5 = 15\t4 X 5 = 20\t5 X 5 = 25\t6 X 5 = 30\t7 X 5 = 35\t8 X 5 = 40\t9 X 5 = 45\t\n",
      "2 X 6 = 12\t3 X 6 = 18\t4 X 6 = 24\t5 X 6 = 30\t6 X 6 = 36\t7 X 6 = 42\t8 X 6 = 48\t9 X 6 = 54\t\n",
      "2 X 7 = 14\t3 X 7 = 21\t4 X 7 = 28\t5 X 7 = 35\t6 X 7 = 42\t7 X 7 = 49\t8 X 7 = 56\t9 X 7 = 63\t\n",
      "2 X 8 = 16\t3 X 8 = 24\t4 X 8 = 32\t5 X 8 = 40\t6 X 8 = 48\t7 X 8 = 56\t8 X 8 = 64\t9 X 8 = 72\t\n",
      "2 X 9 = 18\t3 X 9 = 27\t4 X 9 = 36\t5 X 9 = 45\t6 X 9 = 54\t7 X 9 = 63\t8 X 9 = 72\t9 X 9 = 81\t\n"
     ]
    }
   ],
   "source": [
    "# 구구단 표\n",
    "for num1 in range(1,10): # 뒷자리\n",
    "    for num2 in range(2, 10): # 앞자리\n",
    "        print(\"{} X {} = {}\".format(num2, num1, num2*num1), end='\\t')\n",
    "    print()"
   ]
  },
  {
   "cell_type": "code",
   "execution_count": 60,
   "metadata": {},
   "outputs": [
    {
     "data": {
      "text/plain": [
       "[20, 60, 140, 10, 240, 1400, 2, 70]"
      ]
     },
     "execution_count": 60,
     "metadata": {},
     "output_type": "execute_result"
    }
   ],
   "source": [
    "#컴프리헨션\n",
    "\n",
    "#(5) 다음 리스트가 가진 값에 두배(* 2)를 가지는 새로운 리스트를 만드시오. (리스트 컴프리헨션 이용)\n",
    "lst = [10, 30, 70, 5, 120, 700, 1, 35]\n",
    "r1 = [i*2 for i in lst]\n",
    "r1"
   ]
  },
  {
   "cell_type": "code",
   "execution_count": 61,
   "metadata": {},
   "outputs": [
    {
     "data": {
      "text/plain": [
       "[(10, 100),\n",
       " (30, 300),\n",
       " (70, 700),\n",
       " (5, 50),\n",
       " (5, 50),\n",
       " (120, 1200),\n",
       " (700, 7000),\n",
       " (1, 10),\n",
       " (35, 350),\n",
       " (35, 350)]"
      ]
     },
     "execution_count": 61,
     "metadata": {},
     "output_type": "execute_result"
    }
   ],
   "source": [
    "#(6) 다음 리스트가 가진 값에 10배의 값을 가지는 값을 (원래값, 10배값) 의 튜플묶음으로 가지는 리스트를 만드시오 (리스트 컴프리헨션 이용)\n",
    "# Ex) [(10,100), (30,300), .., (35, 350)]\n",
    "lst = [10, 30, 70, 5, 5, 120, 700, 1, 35, 35]\n",
    "r2 = [(i, i*10) for i in lst]\n",
    "r2"
   ]
  },
  {
   "cell_type": "code",
   "execution_count": 62,
   "metadata": {},
   "outputs": [
    {
     "data": {
      "text/plain": [
       "[3, 33, 21, 33, 60, 120]"
      ]
     },
     "execution_count": 62,
     "metadata": {},
     "output_type": "execute_result"
    }
   ],
   "source": [
    "#(7) 다음 리스트가 가진 값들 중 3의 배수만 가지는 리스트를 만드시오. (리스트 컴프리헨션 이용)\n",
    "lst2 = [ 3, 20, 33, 21, 33, 8, 11, 10, 7, 17, 60, 120, 2]\n",
    "r3 = [i for i in lst2 if i%3==0]\n",
    "r3"
   ]
  },
  {
   "cell_type": "code",
   "execution_count": 63,
   "metadata": {},
   "outputs": [
    {
     "data": {
      "text/plain": [
       "['a.exe', 'function.exe', 'b.exe', 'run.exe']"
      ]
     },
     "execution_count": 63,
     "metadata": {},
     "output_type": "execute_result"
    }
   ],
   "source": [
    "#(8) 다음 파일이름들을 담은 리스트에서 확장자가 exe인 파일만 골라서 새로운 리스트에 담으시오.(string의 endswith()함수 이용)\n",
    "file_name=[\"test.txt\", \"a.exe\", \"jupyter.bat\", \"function.exe\", \"b.exe\", \"cat.jpg\", \"dog.png\", \"run.exe\", \"i.dll\"]\n",
    "\n",
    "r4 = [i for i in file_name if i.endswith(\"exe\")]\n",
    "r4"
   ]
  },
  {
   "cell_type": "code",
   "execution_count": 64,
   "metadata": {},
   "outputs": [
    {
     "data": {
      "text/plain": [
       "(True, False, True, False)"
      ]
     },
     "execution_count": 64,
     "metadata": {},
     "output_type": "execute_result"
    }
   ],
   "source": [
    "f = \"abc.exe\"\n",
    "f.endswith(\"exe\"), f.endswith(\".bat\"), f.startswith(\"ab\"), f.startswith(\"sa\")"
   ]
  },
  {
   "cell_type": "code",
   "execution_count": 65,
   "metadata": {},
   "outputs": [
    {
     "data": {
      "text/plain": [
       "['mystroy.txt', 'jupyter.bat', 'function.exe']"
      ]
     },
     "execution_count": 65,
     "metadata": {},
     "output_type": "execute_result"
    }
   ],
   "source": [
    "#(9) 다음 중 10글자 이상인 파일명(확장자포함)만 가지는 리스트를 만드시오.\n",
    "file_name=[\"mystroy.txt\", \"a.exe\", \"jupyter.bat\", \"function.exe\", \"b.exe\", \"cat.jpg\", \"dog.png\", \"run.exe\", \"i.dll\"]\n",
    "r5 = [i for i in file_name if len(i)>=10]\n",
    "r5"
   ]
  },
  {
   "cell_type": "code",
   "execution_count": 66,
   "metadata": {},
   "outputs": [
    {
     "data": {
      "text/plain": [
       "85"
      ]
     },
     "execution_count": 66,
     "metadata": {},
     "output_type": "execute_result"
    }
   ],
   "source": [
    "import random \n",
    "random.randint(1, 100) # 실행시마다 1~100 사이 임의의 정수 하나를 반환"
   ]
  },
  {
   "cell_type": "markdown",
   "metadata": {},
   "source": [
    "import guess_number\n",
    "guess_number.guess_num()"
   ]
  },
  {
   "cell_type": "code",
   "execution_count": 70,
   "metadata": {},
   "outputs": [
    {
     "name": "stdout",
     "output_type": "stream",
     "text": [
      "1 ~ 100 사의의 숫자 중 하나를 맞추세요.\n",
      "1~100: 50\n",
      "더 큰 값을 입력하세요\n",
      "1 ~ 100: 75\n",
      "더 큰 값을 입력하세요\n",
      "1 ~ 100: 85\n",
      "더 큰 값을 입력하세요\n",
      "1 ~ 100: 90\n",
      "더 작은 값을 입력하세요\n",
      "1 ~ 100: 87\n",
      "5번 만에 맞췄습니다\n",
      "[75, 85, 90, 87]\n"
     ]
    }
   ],
   "source": [
    "# 정답이 될 임의의 값 생성\n",
    "import random \n",
    "num = random.randint(1, 100) # 1 ~ 100사이의 임의의 정수를 반환.\n",
    "count = 1 # 몇번째 맞추는지를 저장할 변수\n",
    "guess_list = []\n",
    "print(\"1 ~ 100 사의의 숫자 중 하나를 맞추세요.\")\n",
    "\n",
    "# 사용자로부터 숫자 입력\n",
    "guess_num = int(input(\"1~100: \"))\n",
    "\n",
    "\n",
    "# 정답과 사용자 입력값이 같은지 비교해서 같으면 종료, 다르면 다시 입력받는다,\n",
    "while num != guess_num:\n",
    "    if num > guess_num:\n",
    "        print(\"더 큰 값을 입력하세요\")\n",
    "    else:\n",
    "        print(\"더 작은 값을 입력하세요\")\n",
    "    \n",
    "    guess_num = int(input('1 ~ 100: '))\n",
    "    guess_list.append(guess_num)\n",
    "    count = count+1 # count +=1\n",
    "    \n",
    "print(\"{}번 만에 맞췄습니다\".format(count))\n",
    "print(guess_list)"
   ]
  },
  {
   "cell_type": "code",
   "execution_count": 71,
   "metadata": {},
   "outputs": [
    {
     "ename": "NameError",
     "evalue": "name 'greeting' is not defined",
     "output_type": "error",
     "traceback": [
      "\u001b[1;31m---------------------------------------------------------------------------\u001b[0m",
      "\u001b[1;31mNameError\u001b[0m                                 Traceback (most recent call last)",
      "\u001b[1;32m<ipython-input-71-3ffcd7d44b66>\u001b[0m in \u001b[0;36m<module>\u001b[1;34m\u001b[0m\n\u001b[1;32m----> 1\u001b[1;33m \u001b[0mgreeting\u001b[0m\u001b[1;33m(\u001b[0m\u001b[1;33m)\u001b[0m\u001b[1;33m\u001b[0m\u001b[1;33m\u001b[0m\u001b[0m\n\u001b[0m",
      "\u001b[1;31mNameError\u001b[0m: name 'greeting' is not defined"
     ]
    }
   ],
   "source": []
  },
  {
   "cell_type": "code",
   "execution_count": null,
   "metadata": {},
   "outputs": [],
   "source": []
  },
  {
   "cell_type": "code",
   "execution_count": null,
   "metadata": {},
   "outputs": [],
   "source": []
  },
  {
   "cell_type": "code",
   "execution_count": null,
   "metadata": {},
   "outputs": [],
   "source": []
  },
  {
   "cell_type": "code",
   "execution_count": null,
   "metadata": {},
   "outputs": [],
   "source": []
  },
  {
   "cell_type": "code",
   "execution_count": null,
   "metadata": {},
   "outputs": [],
   "source": []
  },
  {
   "cell_type": "code",
   "execution_count": null,
   "metadata": {},
   "outputs": [],
   "source": []
  },
  {
   "cell_type": "code",
   "execution_count": null,
   "metadata": {},
   "outputs": [],
   "source": []
  },
  {
   "cell_type": "code",
   "execution_count": null,
   "metadata": {},
   "outputs": [],
   "source": []
  },
  {
   "cell_type": "code",
   "execution_count": null,
   "metadata": {},
   "outputs": [],
   "source": []
  },
  {
   "cell_type": "code",
   "execution_count": null,
   "metadata": {},
   "outputs": [],
   "source": []
  },
  {
   "cell_type": "code",
   "execution_count": null,
   "metadata": {},
   "outputs": [],
   "source": []
  },
  {
   "cell_type": "code",
   "execution_count": null,
   "metadata": {},
   "outputs": [],
   "source": []
  },
  {
   "cell_type": "code",
   "execution_count": null,
   "metadata": {},
   "outputs": [],
   "source": []
  },
  {
   "cell_type": "code",
   "execution_count": null,
   "metadata": {},
   "outputs": [],
   "source": []
  },
  {
   "cell_type": "code",
   "execution_count": null,
   "metadata": {},
   "outputs": [],
   "source": []
  },
  {
   "cell_type": "code",
   "execution_count": null,
   "metadata": {},
   "outputs": [],
   "source": []
  },
  {
   "cell_type": "code",
   "execution_count": null,
   "metadata": {},
   "outputs": [],
   "source": []
  },
  {
   "cell_type": "code",
   "execution_count": null,
   "metadata": {},
   "outputs": [],
   "source": []
  },
  {
   "cell_type": "code",
   "execution_count": null,
   "metadata": {},
   "outputs": [],
   "source": []
  },
  {
   "cell_type": "code",
   "execution_count": null,
   "metadata": {},
   "outputs": [],
   "source": []
  },
  {
   "cell_type": "code",
   "execution_count": null,
   "metadata": {},
   "outputs": [],
   "source": []
  },
  {
   "cell_type": "code",
   "execution_count": null,
   "metadata": {},
   "outputs": [],
   "source": []
  },
  {
   "cell_type": "code",
   "execution_count": null,
   "metadata": {},
   "outputs": [],
   "source": []
  },
  {
   "cell_type": "code",
   "execution_count": null,
   "metadata": {},
   "outputs": [],
   "source": []
  },
  {
   "cell_type": "code",
   "execution_count": null,
   "metadata": {},
   "outputs": [],
   "source": []
  },
  {
   "cell_type": "code",
   "execution_count": null,
   "metadata": {},
   "outputs": [],
   "source": []
  },
  {
   "cell_type": "code",
   "execution_count": null,
   "metadata": {},
   "outputs": [],
   "source": []
  },
  {
   "cell_type": "code",
   "execution_count": null,
   "metadata": {},
   "outputs": [],
   "source": []
  },
  {
   "cell_type": "code",
   "execution_count": null,
   "metadata": {},
   "outputs": [],
   "source": []
  },
  {
   "cell_type": "code",
   "execution_count": null,
   "metadata": {},
   "outputs": [],
   "source": []
  },
  {
   "cell_type": "code",
   "execution_count": null,
   "metadata": {},
   "outputs": [],
   "source": []
  },
  {
   "cell_type": "code",
   "execution_count": null,
   "metadata": {},
   "outputs": [],
   "source": []
  },
  {
   "cell_type": "code",
   "execution_count": null,
   "metadata": {},
   "outputs": [],
   "source": []
  },
  {
   "cell_type": "code",
   "execution_count": null,
   "metadata": {},
   "outputs": [],
   "source": []
  },
  {
   "cell_type": "code",
   "execution_count": null,
   "metadata": {},
   "outputs": [],
   "source": []
  },
  {
   "cell_type": "code",
   "execution_count": null,
   "metadata": {},
   "outputs": [],
   "source": []
  },
  {
   "cell_type": "code",
   "execution_count": null,
   "metadata": {},
   "outputs": [],
   "source": []
  },
  {
   "cell_type": "code",
   "execution_count": null,
   "metadata": {},
   "outputs": [],
   "source": []
  },
  {
   "cell_type": "code",
   "execution_count": null,
   "metadata": {},
   "outputs": [],
   "source": []
  },
  {
   "cell_type": "code",
   "execution_count": null,
   "metadata": {},
   "outputs": [],
   "source": []
  },
  {
   "cell_type": "code",
   "execution_count": null,
   "metadata": {},
   "outputs": [],
   "source": []
  },
  {
   "cell_type": "code",
   "execution_count": null,
   "metadata": {},
   "outputs": [],
   "source": []
  },
  {
   "cell_type": "code",
   "execution_count": null,
   "metadata": {},
   "outputs": [],
   "source": []
  },
  {
   "cell_type": "code",
   "execution_count": null,
   "metadata": {},
   "outputs": [],
   "source": []
  },
  {
   "cell_type": "code",
   "execution_count": null,
   "metadata": {},
   "outputs": [],
   "source": []
  },
  {
   "cell_type": "code",
   "execution_count": null,
   "metadata": {},
   "outputs": [],
   "source": []
  }
 ],
 "metadata": {
  "kernelspec": {
   "display_name": "Python 3",
   "language": "python",
   "name": "python3"
  },
  "language_info": {
   "codemirror_mode": {
    "name": "ipython",
    "version": 3
   },
   "file_extension": ".py",
   "mimetype": "text/x-python",
   "name": "python",
   "nbconvert_exporter": "python",
   "pygments_lexer": "ipython3",
   "version": "3.7.3"
  }
 },
 "nbformat": 4,
 "nbformat_minor": 2
}
